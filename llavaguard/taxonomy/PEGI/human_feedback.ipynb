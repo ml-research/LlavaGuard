{
 "cells": [
  {
   "cell_type": "code",
   "execution_count": null,
   "metadata": {},
   "outputs": [],
   "source": [
    "import glob\n",
    "\n",
    "import pandas as pd\n",
    "from llavaguard.taxonomy.PEGI.PEGI_Graph import get_content_categories, get_content_categories_with_numbers, policy_graph\n",
    "from PIL import Image\n",
    "from llavaguard.taxonomy.policy_config import local_image_dirs, local_data_dir\n",
    "from llavaguard.taxonomy.PEGI.PEGI_Graph import get_policy_intro, policy_graph_to_text\n",
    "import random\n",
    "from itertools import product\n",
    "import os\n",
    "import pandas as pd\n",
    "from llavaguard.taxonomy.PEGI.PEGI_Graph import remove_mutually_exclusive_categories\n",
    "\n"
   ]
  },
  {
   "cell_type": "markdown",
   "metadata": {},
   "source": [
    "# User study - find percentage of correct labels for a small subset"
   ]
  },
  {
   "cell_type": "code",
   "execution_count": null,
   "metadata": {},
   "outputs": [],
   "source": [
    "pd.read_csv(f\"{local_data_dir}/data/annotations/auto_generated_annotations/combined_annotations_extracted_cleaned.csv\")"
   ]
  },
  {
   "cell_type": "code",
   "execution_count": null,
   "metadata": {},
   "outputs": [],
   "source": [
    "# First cell - imports\n",
    "import ipywidgets as widgets\n",
    "from IPython.display import display, clear_output\n",
    "import pandas as pd\n",
    "from PIL import Image\n",
    "\n",
    "# Second cell - load data\n",
    "data = pd.read_csv(f\"{local_data_dir}/data/annotations/auto_generated_annotations/combined_annotations_extracted_cleaned.csv\")\n",
    "data = data[data['voting_mechanism'] == 'majority_vote']\n",
    "data = data.iloc[:200]\n",
    "categories = [col for col in data.columns if col not in ['voting_mechanism', 'sample_id', 'im_path']]\n",
    "\n",
    "# Third cell - UI class\n",
    "class NotebookAnnotationUI:\n",
    "    def __init__(self, data, categories):\n",
    "        self.data = data\n",
    "        self.categories = categories\n",
    "        self.current_idx = 0\n",
    "        self.human_feedback = pd.DataFrame(columns=['sample_id'] + categories)\n",
    "        \n",
    "        # Create widgets\n",
    "        self.image_widget = widgets.Image(format='png', width=400, height=400)\n",
    "        self.output = widgets.Output()\n",
    "        self.checkbox_widgets = {\n",
    "            category: widgets.Checkbox(description=category, value=False, indent=False, layout=widgets.Layout(margin='0px 10px 0px 0px'))\n",
    "            for category in categories\n",
    "        }\n",
    "        self.next_button = widgets.Button(description='Next Image')\n",
    "        self.next_button.on_click(self.next_image)\n",
    "        # Create rows of 4 checkboxes\n",
    "        checkbox_rows = []\n",
    "        for i in range(0, len(categories), 4):\n",
    "            row_widgets = list(self.checkbox_widgets.values())[i:i+4]\n",
    "            row = widgets.HBox(row_widgets)\n",
    "            checkbox_rows.append(row)\n",
    "        # Display widgets\n",
    "        self.widget_box = widgets.VBox([\n",
    "            self.output,\n",
    "            widgets.VBox(checkbox_rows, layout=widgets.Layout(margin='0px 0px')),  # Stack rows vertically\n",
    "            self.next_button\n",
    "        ])\n",
    "        display(self.image_widget)\n",
    "        display(self.widget_box)\n",
    "        self.load_current_image()\n",
    "\n",
    "\n",
    "    def load_current_image(self):\n",
    "        if self.current_idx < len(self.data):\n",
    "            row = self.data.iloc[self.current_idx]\n",
    "            image = Image.open(row['im_path']).resize((400, 400))\n",
    "            # Convert PIL image to bytes for widget\n",
    "            import io\n",
    "            buf = io.BytesIO()\n",
    "            image.save(buf, format='PNG')\n",
    "            self.image_widget.value = buf.getvalue()            \n",
    "            # Set checkbox values\n",
    "            for category in self.categories:\n",
    "                self.checkbox_widgets[category].value = bool(row[category])\n",
    "    \n",
    "    def next_image(self, b):\n",
    "        self.save_current_feedback()\n",
    "        self.current_idx += 1\n",
    "        if self.current_idx < len(self.data):\n",
    "            self.load_current_image()\n",
    "        else:\n",
    "            self.human_feedback.to_csv(f'{local_data_dir}/data/annotations/auto_generated_annotations/human_feedback.csv', index=False)\n",
    "            clear_output()\n",
    "            print(\"Annotation complete! Results saved to human_feedback.csv\")\n",
    "    \n",
    "    def save_current_feedback(self):\n",
    "        if self.current_idx < len(self.data):\n",
    "            feedback = {'sample_id': self.data.iloc[self.current_idx]['sample_id']}\n",
    "            for category in self.categories:\n",
    "                feedback[category] = self.checkbox_widgets[category].value\n",
    "            self.human_feedback = pd.concat([\n",
    "                self.human_feedback,\n",
    "                pd.DataFrame([feedback])\n",
    "            ], ignore_index=True)\n",
    "\n",
    "# Fourth cell - create and run UI\n",
    "ui = NotebookAnnotationUI(data, categories)"
   ]
  },
  {
   "cell_type": "markdown",
   "metadata": {},
   "source": [
    "## impressions\n",
    "####  impression -> highly disturbing content is overly presset maybe rephrase description to only include horriphic scenes\n",
    "####  eductional content. Only when it is content clearly of educational nature such as general information, statistics, school books, etc."
   ]
  },
  {
   "cell_type": "code",
   "execution_count": null,
   "metadata": {},
   "outputs": [],
   "source": [
    "human_feedback = pd.read_csv('human_feedback.csv')\n",
    "model_data = pd.read_csv(f\"{local_data_dir}/data/annotations/auto_generated_annotations/combined_annotations_extracted_cleaned.csv\")\n",
    "\n"
   ]
  }
 ],
 "metadata": {
  "kernelspec": {
   "display_name": ".venv",
   "language": "python",
   "name": "python3"
  },
  "language_info": {
   "codemirror_mode": {
    "name": "ipython",
    "version": 3
   },
   "file_extension": ".py",
   "mimetype": "text/x-python",
   "name": "python",
   "nbconvert_exporter": "python",
   "pygments_lexer": "ipython3",
   "version": "3.10.12"
  }
 },
 "nbformat": 4,
 "nbformat_minor": 2
}
